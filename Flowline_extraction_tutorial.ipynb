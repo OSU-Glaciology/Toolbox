{
 "cells": [
  {
   "cell_type": "markdown",
   "id": "0613a78b",
   "metadata": {},
   "source": [
    "# Flowline extraction tutorial\n",
    "In this tutorial, we will extract a flowline from a velocity map\n",
    "\n"
   ]
  },
  {
   "cell_type": "markdown",
   "id": "3fee7bc6",
   "metadata": {},
   "source": [
    "## 1. Download the velocity data from ITS_LIVE \n",
    "### https://nsidc.org/apps/itslive/\n",
    "(clic on the Greenland red box and chose \"composite 120m\" and clic on the netcdf file download)\n",
    "\n",
    "to calculate the flow line, we need a velocity grid containing the northing (y axis) and the easting (x axis) velocities.\n",
    "\n",
    "\n",
    "\n",
    "\n",
    "\n"
   ]
  },
  {
   "cell_type": "markdown",
   "id": "b898bd32",
   "metadata": {},
   "source": [
    "## 2. Read and extract data from netcdf files\n",
    "For more information on how to read netcdf files in python: https://towardsdatascience.com/read-netcdf-data-with-python-901f7ff61648\n",
    "\n",
    "Main command: \n",
    "1. load package to read netcdf\n",
    "`import netCDF4 as nc`\n",
    "2. load netcdf file\n",
    "`ds = nc.Dataset(netcdf_file_path)`\n",
    "3. display netcdf variable keys (or variables)\n",
    "`ds.variables.keys()`\n",
    "4. extract data from the netCDF dataset.\n",
    "depending on data shape, use `variable = ds['netcdf_variable_key'][:][0]` or `variable = ds['netcdf_variable_key'][:]`\n",
    "\n",
    "``\n",
    "``\n"
   ]
  },
  {
   "cell_type": "code",
   "execution_count": null,
   "id": "8fa761b7",
   "metadata": {},
   "outputs": [],
   "source": []
  }
 ],
 "metadata": {
  "kernelspec": {
   "display_name": "Python 3 (ipykernel)",
   "language": "python",
   "name": "python3"
  },
  "language_info": {
   "codemirror_mode": {
    "name": "ipython",
    "version": 3
   },
   "file_extension": ".py",
   "mimetype": "text/x-python",
   "name": "python",
   "nbconvert_exporter": "python",
   "pygments_lexer": "ipython3",
   "version": "3.9.13"
  }
 },
 "nbformat": 4,
 "nbformat_minor": 5
}
